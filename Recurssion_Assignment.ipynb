{
  "nbformat": 4,
  "nbformat_minor": 0,
  "metadata": {
    "colab": {
      "provenance": []
    },
    "kernelspec": {
      "name": "python3",
      "display_name": "Python 3"
    },
    "language_info": {
      "name": "python"
    }
  },
  "cells": [
    {
      "cell_type": "code",
      "execution_count": 1,
      "metadata": {
        "colab": {
          "base_uri": "https://localhost:8080/"
        },
        "id": "zcUgAPsmrYxk",
        "outputId": "d18d41ac-7bd5-472d-832a-01be2d92ac5f"
      },
      "outputs": [
        {
          "output_type": "stream",
          "name": "stdout",
          "text": [
            "Output: 3\n"
          ]
        }
      ],
      "source": [
        "# Q2. Minimum number of operations to convert one word to another.\n",
        "# Recursive function to find minimum operations\n",
        "def min_operations_recursive(word1, word2, m, n):\n",
        "    # Base cases\n",
        "    if m == 0:\n",
        "        return n  # Insert remaining characters of word2\n",
        "    if n == 0:\n",
        "        return m  # Remove remaining characters of word1\n",
        "\n",
        "    # If last characters match, move to the next characters\n",
        "    if word1[m - 1] == word2[n - 1]:\n",
        "        return min_operations_recursive(word1, word2, m - 1, n - 1)\n",
        "\n",
        "    # Calculate minimum of insert, delete, and replace operations\n",
        "    insert_op = min_operations_recursive(word1, word2, m, n - 1)     # Insert\n",
        "    delete_op = min_operations_recursive(word1, word2, m - 1, n)     # Delete\n",
        "    replace_op = min_operations_recursive(word1, word2, m - 1, n - 1)  # Replace\n",
        "\n",
        "    return 1 + min(insert_op, delete_op, replace_op)\n",
        "\n",
        "# Given strings\n",
        "word1 = \"horse\"\n",
        "word2 = \"ros\"\n",
        "\n",
        "# Calculate minimum operations\n",
        "min_operations = min_operations_recursive(word1, word2, len(word1), len(word2))\n",
        "\n",
        "# Output the result\n",
        "print(\"Output:\", min_operations)\n",
        "# Explanation: Recursive calls simulate insertion, deletion, and replacement.\n"
      ]
    },
    {
      "cell_type": "code",
      "source": [
        "# Q3. Find the maximum value in an array using recursion.\n",
        "# Recursive function to find the maximum element\n",
        "def max_value_recursive(arr, n):\n",
        "    # Base case: if there's only one element, return it\n",
        "    if n == 1:\n",
        "        return arr[0]\n",
        "    # Recursively find the maximum element in the array\n",
        "    return max(arr[n - 1], max_value_recursive(arr, n - 1))\n",
        "\n",
        "# Given array\n",
        "arr = [13, 1, -3, 22, 5]\n",
        "\n",
        "# Output the result\n",
        "print(\"Output:\", max_value_recursive(arr, len(arr)))\n",
        "# Explanation: Recursively compares each element to find the maximum.\n"
      ],
      "metadata": {
        "colab": {
          "base_uri": "https://localhost:8080/"
        },
        "id": "C8-SgPq43oe2",
        "outputId": "b43fb9b6-9089-4244-cf47-2ac3e7b95223"
      },
      "execution_count": 2,
      "outputs": [
        {
          "output_type": "stream",
          "name": "stdout",
          "text": [
            "Output: 22\n"
          ]
        }
      ]
    },
    {
      "cell_type": "code",
      "source": [
        "# Q4. Find the sum of values in an array using recursion.\n",
        "# Recursive function to find the sum of elements\n",
        "def sum_recursive(arr, n):\n",
        "    # Base case: if there's only one element, return it\n",
        "    if n == 0:\n",
        "        return 0\n",
        "    # Recursively calculate sum by adding the last element to the sum of the rest\n",
        "    return arr[n - 1] + sum_recursive(arr, n - 1)\n",
        "\n",
        "# Given array\n",
        "arr = [92, 23, 15, -20, 10]\n",
        "\n",
        "# Output the result\n",
        "print(\"Output:\", sum_recursive(arr, len(arr)))\n",
        "# Explanation: Recursively adds elements one by one to find the total sum.\n"
      ],
      "metadata": {
        "colab": {
          "base_uri": "https://localhost:8080/"
        },
        "id": "Lcevc3A83vPG",
        "outputId": "4c237adf-d32e-41e8-9a78-b62018821d56"
      },
      "execution_count": 3,
      "outputs": [
        {
          "output_type": "stream",
          "name": "stdout",
          "text": [
            "Output: 120\n"
          ]
        }
      ]
    },
    {
      "cell_type": "code",
      "source": [
        "# Q5. Check if a number is an Armstrong number using recursion.\n",
        "# Recursive function to calculate the Armstrong sum\n",
        "def armstrong_recursive(num_str, num_len):\n",
        "    # Base case: if no digits left, return 0\n",
        "    if not num_str:\n",
        "        return 0\n",
        "    # Calculate the power of the first digit, and recurse for the rest\n",
        "    return int(num_str[0]) ** num_len + armstrong_recursive(num_str[1:], num_len)\n",
        "\n",
        "# Given number\n",
        "n = 153\n",
        "num_str = str(n)\n",
        "num_len = len(num_str)\n",
        "\n",
        "# Calculate Armstrong sum recursively and check if it matches original number\n",
        "is_armstrong = armstrong_recursive(num_str, num_len) == n\n",
        "\n",
        "# Output the result\n",
        "print(\"Output:\", \"Yes\" if is_armstrong else \"No\")\n",
        "# Explanation: Recursively sums each digit raised to power of length.\n"
      ],
      "metadata": {
        "colab": {
          "base_uri": "https://localhost:8080/"
        },
        "id": "KQRXkFkX35cB",
        "outputId": "ef66769f-8ba5-4f96-d6b4-d5a7228cf039"
      },
      "execution_count": 4,
      "outputs": [
        {
          "output_type": "stream",
          "name": "stdout",
          "text": [
            "Output: Yes\n"
          ]
        }
      ]
    },
    {
      "cell_type": "code",
      "source": [],
      "metadata": {
        "id": "wyxjCPu84Axm"
      },
      "execution_count": null,
      "outputs": []
    }
  ]
}